{
  "nbformat": 4,
  "nbformat_minor": 0,
  "metadata": {
    "colab": {
      "name": "Estudo de caso Linguagem para desenvolvimento 1.ipynb",
      "provenance": [],
      "authorship_tag": "ABX9TyP6ElAAU/JJw6g3sMDGR8BY",
      "include_colab_link": true
    },
    "kernelspec": {
      "name": "python3",
      "display_name": "Python 3"
    },
    "language_info": {
      "name": "python"
    }
  },
  "cells": [
    {
      "cell_type": "markdown",
      "metadata": {
        "id": "view-in-github",
        "colab_type": "text"
      },
      "source": [
        "<a href=\"https://colab.research.google.com/github/geansm2/academic/blob/main/Estudo_de_caso_Linguagem_para_desenvolvimento_1.ipynb\" target=\"_parent\"><img src=\"https://colab.research.google.com/assets/colab-badge.svg\" alt=\"Open In Colab\"/></a>"
      ]
    },
    {
      "cell_type": "code",
      "execution_count": 13,
      "metadata": {
        "colab": {
          "base_uri": "https://localhost:8080/"
        },
        "id": "X0mwYqGl0teY",
        "outputId": "0aa01a77-13fc-4440-f16d-f09a9f80cf1f"
      },
      "outputs": [
        {
          "output_type": "stream",
          "name": "stdout",
          "text": [
            "Informe seu nome e tecle enter: \n",
            "gean\n",
            "Qual seu código de matricula? \n",
            "2019\n",
            "informe a nota obtida no 1º bimestre: \n",
            "5\n",
            "informe a nota obtida no 2º bimestre: \n",
            "6\n",
            "informe a nota obtida no 3º bimestre: \n",
            "4\n",
            "informe a nota obtida no 4º bimestre: \n",
            "5\n",
            "Aluno: gean\n",
            ", Matricula: 2019\n",
            "Nota no 1º bimestre:  5.0\n",
            "Nota no 2º bimestre:  6.0\n",
            "Nota no 3º bimestre:  6.0\n",
            "Nota no 4º bimestre:  6.0\n",
            "Media final: 5.0\n",
            "Aluno em recuperação.\n"
          ]
        }
      ],
      "source": [
        "#Aluno: Gean Paulo Soares Machado\n",
        "#Matricula: 2019705\n",
        "#Linguagem para desenvolvimento I\n",
        "\n",
        "#Estudo de Caso\n",
        "#Elabore um programa em linguagem Python para cálculo de notas de alunos considerando um período letivo de 4 bimestres e média para aprovação sendo 7,0 pontos. Seu programa deverá pedir para o usuário informar o nome de um aluno e qual seu código matrícula e as notas do 1º ao 4º bimestre.\n",
        "#Ao final da inserção dos dados o programa deve apresentar as seguintes informações:\n",
        "#a) nome e matrícula do aluno\n",
        "#b) nota de cada bimestre\n",
        "#c) média final\n",
        "#d) status do aluno:\n",
        "#- aprovado se a média for maior ou igual a 7,0\n",
        "#- em recuperação se a média for menor que 7,0  e maior que 3,0\n",
        "#- reprovado se a média for menor que 3,0\n",
        "\n",
        "print('Informe seu nome e tecle enter: ')\n",
        "nome = input()\n",
        "print('Qual seu código de matricula? ')\n",
        "matricula = input()\n",
        "print('informe a nota obtida no 1º bimestre: ')\n",
        "n1 = input()\n",
        "n1 = float(n1)\n",
        "\n",
        "print('informe a nota obtida no 2º bimestre: ')\n",
        "n2 = input()\n",
        "n2 = float(n2)\n",
        "\n",
        "print('informe a nota obtida no 3º bimestre: ')\n",
        "n3 = input()\n",
        "n3 = float(n3)\n",
        "\n",
        "print('informe a nota obtida no 4º bimestre: ')\n",
        "n4 = input()\n",
        "n4 = float(n4)\n",
        "\n",
        "print('Aluno: ' + nome)\n",
        "print('Matricula: ' + matricula)\n",
        "print('Nota no 1º bimestre: ', n1)\n",
        "print('Nota no 2º bimestre: ', n2)\n",
        "print('Nota no 3º bimestre: ', n3)\n",
        "print('Nota no 4º bimestre: ', n4)\n",
        "\n",
        "media = (n1 + n2 + n3 + n4) / (4)\n",
        "print(f\"Media final: {media:.1f}\")\n",
        "\n",
        "if media >= 7:\n",
        "  print('Aluno aprovado.')\n",
        "elif media < 3:\n",
        "    print('Aluno reprovado.')\n",
        "elif 3 <= media <= 6.9:\n",
        "  print('Aluno em recuperação.') "
      ]
    },
    {
      "cell_type": "code",
      "source": [
        ""
      ],
      "metadata": {
        "id": "nW7ICk4h06Oe"
      },
      "execution_count": null,
      "outputs": []
    }
  ]
}